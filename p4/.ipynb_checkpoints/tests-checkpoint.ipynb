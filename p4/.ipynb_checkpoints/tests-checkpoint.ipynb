{
 "cells": [
  {
   "cell_type": "code",
   "execution_count": 8,
   "id": "2bbe98c2-f379-483c-94f1-d45f011fc73e",
   "metadata": {},
   "outputs": [],
   "source": [
    "import geopandas as gpd\n",
    "from shapely.geometry import box\n",
    "import matplotlib.pyplot as plt\n",
    "import matplotlib\n",
    "import pandas as pd\n",
    "from flask import Flask, request, jsonify, render_template\n",
    "from zipfile import ZipFile, ZIP_DEFLATED\n",
    "from io import TextIOWrapper\n",
    "import csv, re\n",
    "matplotlib.use('Agg')"
   ]
  },
  {
   "cell_type": "code",
   "execution_count": 2,
   "id": "4f2a066d-3479-4371-9f13-062f7e07028a",
   "metadata": {},
   "outputs": [],
   "source": [
    "geodata = gpd.read_file(\"locations.geojson\")\n",
    "us_states = gpd.read_file(\"shapes/cb_2018_us_state_20m.shp\")"
   ]
  },
  {
   "cell_type": "code",
   "execution_count": 3,
   "id": "67623c2d-cac7-4045-a135-c99f7489ce1a",
   "metadata": {},
   "outputs": [],
   "source": [
    "us_states = us_states.to_crs(\"epsg:2022\")\n",
    "geodata = gpd.read_file(\"locations.geojson\")"
   ]
  },
  {
   "cell_type": "code",
   "execution_count": 5,
   "id": "c3d0c36c-61dd-416d-833a-c3a9d89984c6",
   "metadata": {},
   "outputs": [],
   "source": [
    "import geopandas as gpd\n",
    "import matplotlib.pyplot as plt\n",
    "import matplotlib\n",
    "matplotlib.use('Agg')\n",
    "\n",
    "locations = gpd.read_file(\"locations.geojson\")\n",
    "us_states = gpd.read_file(\"shapes/cb_2018_us_state_20m.shp\")\n",
    "\n",
    "# Filter the locations within the specified lat/lon bounds\n",
    "us_states = us_states.cx[-95:-60, 25:50]\n",
    "locations = locations.cx[-95:-60, 25:50]\n",
    "\n",
    "# Filter postal codes: extract and filter based on criteria\n",
    "# (assuming 'address' column contains address information)\n",
    "locations['PostalCode'] = locations['address'].str.extract(r'(\\b\\d{5}(?:-\\d{4})?\\b)')\n",
    "locations = locations[locations['PostalCode'].astype(str).str.match(r'^\\d{5}$') | locations['PostalCode'].astype(str).str.match(r'^\\d{9}$')]\n",
    "locations = locations[(locations['PostalCode'].astype(int) >= 25000) & (locations['PostalCode'].astype(int) <= 65000)]\n",
    "\n",
    "# Use a Mercator projection after filtering the data\n",
    "locations = locations.to_crs(\"epsg:2022\")\n",
    "us_states = us_states.to_crs(\"epsg:2022\")\n",
    "\n",
    "# Create a plot\n",
    "fig, ax = plt.subplots(figsize=(5, 4))\n",
    "ax.axis('off')\n",
    "# Plot background map of US states with lightgray color\n",
    "us_states.plot(ax=ax, color='lightgray')\n",
    "\n",
    "# Plot GeoJSON addresses over the background map, color-coded by postal code with RdBu colormap\n",
    "locations.plot(ax=ax, marker='o', column='PostalCode', legend=False, cmap='RdBu', markersize=15)\n",
    "\n",
    "# Remove axis labels and ticks\n",
    "\n",
    "\n",
    "plt.savefig('dashboard.svg', format='svg')\n",
    "\n",
    "# Close the plot to free up memory\n",
    "plt.close(fig)\n"
   ]
  },
  {
   "cell_type": "code",
   "execution_count": null,
   "id": "2ee4fb69-0add-45ac-b3fc-4093cb8d4da0",
   "metadata": {},
   "outputs": [],
   "source": [
    "\n",
    "\n",
    "    sicCounterDict = {}\n",
    "    for n in allFiling:\n",
    "        if n.sic == None:\n",
    "            continue\n",
    "        for sic in n.sic:\n",
    "            if sic not in sicCounterDict:\n",
    "                sicCounterDict[sic] = 0\n",
    "            sicCounterDict[sic] += 1\n",
    "    sicCounterDict = dict(sorted(sicCounterDict.items(), key=lambda item: item[1], reverse=True))\n",
    "    CounterDictHtml = str(pd.DataFrame(sicCounterDict.values(), sicCounterDict.keys()).head(10).to_dict()[0])\n",
    "\n",
    "    df2 = df[[\"cik\",\"accession\",\"extention\"]]\n",
    "    #df2['doc'] = df.apply(lambda row: f\"{int(row['cik'])}/{row['accession']}/{row['extention']}\", axis=1)\n",
    "    df2.loc[:, 'doc'] = df.apply(lambda row: f\"{int(row['cik'])}/{row['accession']}/{row['extention']}\", axis=1)\n",
    "    allsearchable = list(df2[\"doc\"].values)\n",
    "    finalList = [n for n in allsearchable if \"htm\" in n]\n",
    "\n",
    "\n",
    "    AddressFilings = []\n",
    "    with ZipFile(\"docs.zip\") as zFile:\n",
    "        for n in finalList: \n",
    "            try:\n",
    "                with zFile.open(n, \"r\") as htmlFile:\n",
    "                    html = htmlFile.read()\n",
    "                    Filing = edgar_utils.Filing(str(html))\n",
    "                    AddressFilings.append(Filing)\n",
    "            except:\n",
    "                continue\n",
    "    AddressCountsDict = {}\n",
    "    for n in AddressFilings:\n",
    "        if n.addresses == None or n.addresses == '':\n",
    "            continue\n",
    "        else:\n",
    "            for address in n.addresses:\n",
    "                if \"\\\\n\" in address:\n",
    "                    temp = address.replace(\"\\\\n\", \"\")\n",
    "                if temp not in AddressCountsDict:\n",
    "                    AddressCountsDict[temp] = 0\n",
    "                AddressCountsDict[temp] += 1\n",
    "\n",
    "\n",
    "    AddressCountsDict = dict(sorted(AddressCountsDict.items(), key=lambda item: item[1], reverse=True))\n",
    "    AddressCountsDict = {k: v for k, v in AddressCountsDict.items() if v > 300}\n",
    "    AddressCountsDict = str(pd.DataFrame(AddressCountsDict.values(), AddressCountsDict.keys()).head(12).to_dict()[0])\n"
   ]
  },
  {
   "cell_type": "code",
   "execution_count": 11,
   "id": "f0a200f6-9b7d-43f7-94a7-1332cb02be4a",
   "metadata": {},
   "outputs": [],
   "source": [
    "import edgar_utils"
   ]
  },
  {
   "cell_type": "code",
   "execution_count": 18,
   "id": "18eb41e3-a6a6-4315-b04b-36a18b832c8c",
   "metadata": {},
   "outputs": [],
   "source": [
    "allFiling = []                               #### Q2 Start\n",
    "sicCounterDict = {}\n",
    "with ZipFile(\"docs.zip\") as zFile:\n",
    "    for n in zFile.namelist():\n",
    "        if \"htm\" in n:\n",
    "            with zFile.open(n, \"r\") as htmlFile:\n",
    "                html = htmlFile.read().decode(\"utf-8\")\n",
    "                Filing = edgar_utils.Filing(str(html))\n",
    "                allFiling.append(Filing)\n",
    "                sic = Filing.sic\n",
    "                if sic != None:\n",
    "                    if sic not in sicCounterDict:\n",
    "                        sicCounterDict[sic] = 0\n",
    "                    sicCounterDict[sic] += 1\n",
    "sicCounterDict = dict(sorted(sicCounterDict.items(), key=lambda item: item[1], reverse=True))\n",
    "CounterDictHtml = str(pd.DataFrame(sicCounterDict.values(), sicCounterDict.keys()).head(10).to_dict()[0]) #### Q2 End"
   ]
  },
  {
   "cell_type": "code",
   "execution_count": 19,
   "id": "72841b08-2276-4bac-8651-bd4979452693",
   "metadata": {},
   "outputs": [
    {
     "data": {
      "text/plain": [
       "'{2834: 40, 6022: 20, 1311: 20, 6798: 20, 6021: 20, 1389: 19, 6189: 17, 6211: 17, 2836: 13, 7389: 11}'"
      ]
     },
     "execution_count": 19,
     "metadata": {},
     "output_type": "execute_result"
    }
   ],
   "source": [
    "CounterDictHtml"
   ]
  },
  {
   "cell_type": "code",
   "execution_count": 28,
   "id": "e39c6cc1-610e-4111-a8a9-9e8d93a5ff3b",
   "metadata": {},
   "outputs": [],
   "source": [
    "df = pd.read_csv(\"server_log.zip\", compression = \"zip\")"
   ]
  },
  {
   "cell_type": "code",
   "execution_count": 29,
   "id": "4375f364-059a-4bb5-8c40-eb9375a8c7e4",
   "metadata": {},
   "outputs": [],
   "source": [
    "expected_df = pd.read_csv(\"p4-key.csv\")"
   ]
  },
  {
   "cell_type": "code",
   "execution_count": 33,
   "id": "e7531557-a237-4abd-a4ce-7a3b636ca7c4",
   "metadata": {},
   "outputs": [
    {
     "data": {
      "text/plain": [
       "\"{'54.152.17.ccg': 12562, '183.195.251.hah': 6524, '52.45.218.ihf': 5562, '68.180.231.abf': 5493, '204.212.175.bch': 4708, '103.238.106.gif': 4428, '208.77.215.jeh': 3903, '208.77.214.jeh': 3806, '217.174.255.dgd': 3551, '82.13.163.caf': 3527}\""
      ]
     },
     "execution_count": 33,
     "metadata": {},
     "output_type": "execute_result"
    }
   ],
   "source": [
    "expected_df.iloc[0][\"expected\"]"
   ]
  },
  {
   "cell_type": "code",
   "execution_count": 31,
   "id": "3cdd2829-5098-4aa0-994d-70af66ea14af",
   "metadata": {},
   "outputs": [
    {
     "data": {
      "text/plain": [
       "\"{'54.152.17.ccg': 12562, '183.195.251.hah': 6524, '52.45.218.ihf': 5562, '68.180.231.abf': 5493, '204.212.175.bch': 4708, '103.238.106.gif': 4428, '208.77.215.jeh': 3903, '208.77.214.jeh': 3806, '217.174.255.dgd': 3551, '82.13.163.caf': 3527}\""
      ]
     },
     "execution_count": 31,
     "metadata": {},
     "output_type": "execute_result"
    }
   ],
   "source": []
  },
  {
   "cell_type": "code",
   "execution_count": null,
   "id": "442ef023-c9ca-4379-8131-618a50f46bd0",
   "metadata": {},
   "outputs": [],
   "source": []
  },
  {
   "cell_type": "code",
   "execution_count": null,
   "id": "f7ac631f-4621-4d46-9d74-4bd0d21725b5",
   "metadata": {},
   "outputs": [],
   "source": []
  }
 ],
 "metadata": {
  "kernelspec": {
   "display_name": "Python 3 (ipykernel)",
   "language": "python",
   "name": "python3"
  },
  "language_info": {
   "codemirror_mode": {
    "name": "ipython",
    "version": 3
   },
   "file_extension": ".py",
   "mimetype": "text/x-python",
   "name": "python",
   "nbconvert_exporter": "python",
   "pygments_lexer": "ipython3",
   "version": "3.10.12"
  }
 },
 "nbformat": 4,
 "nbformat_minor": 5
}
