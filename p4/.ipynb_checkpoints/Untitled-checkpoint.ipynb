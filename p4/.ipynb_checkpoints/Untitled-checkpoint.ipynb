{
 "cells": [
  {
   "cell_type": "code",
   "execution_count": 29,
   "id": "22dc980b-3ae7-4e1e-bce7-15ee9942d01e",
   "metadata": {},
   "outputs": [],
   "source": [
    "import pandas as pd\n",
    "from flask import Flask, request, jsonify, render_template\n",
    "from zipfile import ZipFile, ZIP_DEFLATED\n",
    "from io import TextIOWrapper\n",
    "import csv, re"
   ]
  },
  {
   "cell_type": "code",
   "execution_count": 30,
   "id": "2a97044e-9682-4a99-b0f6-146684c9f61e",
   "metadata": {},
   "outputs": [
    {
     "data": {
      "text/plain": [
       "'101.1.1.000'"
      ]
     },
     "execution_count": 30,
     "metadata": {},
     "output_type": "execute_result"
    }
   ],
   "source": [
    "import re\n",
    "ipaddr = \"101.1.1.abc\"\n",
    "re.sub(\"[A-Za-z]\", \"0\", ipaddr)"
   ]
  },
  {
   "cell_type": "code",
   "execution_count": 31,
   "id": "7ac2fe72-ad87-4fa4-9fd8-b2a46e64716a",
   "metadata": {},
   "outputs": [
    {
     "data": {
      "text/plain": [
       "574836076"
      ]
     },
     "execution_count": 31,
     "metadata": {},
     "output_type": "execute_result"
    }
   ],
   "source": [
    "import netaddr\n",
    "int(netaddr.IPAddress(\"34.67.77.108\"))"
   ]
  },
  {
   "cell_type": "code",
   "execution_count": 32,
   "id": "a1c68f20-05db-4958-92ac-2deaac0cc9c1",
   "metadata": {},
   "outputs": [],
   "source": [
    "L = [1, 2, 100, 222, 900]"
   ]
  },
  {
   "cell_type": "code",
   "execution_count": 33,
   "id": "724383d1-4ef9-4f08-9416-e1fbb7597dfb",
   "metadata": {},
   "outputs": [
    {
     "data": {
      "text/plain": [
       "4"
      ]
     },
     "execution_count": 33,
     "metadata": {},
     "output_type": "execute_result"
    }
   ],
   "source": [
    "from bisect import bisect\n",
    "idx = bisect(L, 225)\n",
    "idx"
   ]
  },
  {
   "cell_type": "code",
   "execution_count": 34,
   "id": "4c9ec8a8-1f6b-4b8d-ba85-bde9ff638681",
   "metadata": {},
   "outputs": [
    {
     "data": {
      "text/plain": [
       "16843008"
      ]
     },
     "execution_count": 34,
     "metadata": {},
     "output_type": "execute_result"
    }
   ],
   "source": [
    "int(netaddr.IPAddress(\"1.1.1.0\"))"
   ]
  },
  {
   "cell_type": "code",
   "execution_count": 35,
   "id": "93283914-4bbf-47a0-ad15-c88cb6ae4c5e",
   "metadata": {},
   "outputs": [
    {
     "name": "stdout",
     "output_type": "stream",
     "text": [
      "11\n"
     ]
    },
    {
     "data": {
      "text/plain": [
       "low                       16843008\n",
       "high                      16843263\n",
       "code                            US\n",
       "region    United States of America\n",
       "Name: 10, dtype: object"
      ]
     },
     "execution_count": 35,
     "metadata": {},
     "output_type": "execute_result"
    }
   ],
   "source": [
    "ips = pd.read_csv(\"ip2location.csv\")\n",
    "idx = bisect(ips[\"low\"], int(netaddr.IPAddress(\"1.1.1.0\")))\n",
    "print(idx)\n",
    "ips.iloc[10]"
   ]
  },
  {
   "cell_type": "code",
   "execution_count": 36,
   "id": "35db06c0-d97d-4d60-9d51-f982e3684595",
   "metadata": {},
   "outputs": [
    {
     "data": {
      "text/plain": [
       "low       16843264\n",
       "high      16859135\n",
       "code            CN\n",
       "region       China\n",
       "Name: 11, dtype: object"
      ]
     },
     "execution_count": 36,
     "metadata": {},
     "output_type": "execute_result"
    }
   ],
   "source": [
    "ips.iloc[idx]"
   ]
  },
  {
   "cell_type": "code",
   "execution_count": 37,
   "id": "024cd4e5-0826-4063-a4cb-81d606b82cfb",
   "metadata": {},
   "outputs": [],
   "source": [
    "import edgar_utils"
   ]
  },
  {
   "cell_type": "code",
   "execution_count": 38,
   "id": "5d53153b-8d42-41f9-b921-17f4599583bf",
   "metadata": {},
   "outputs": [
    {
     "data": {
      "text/plain": [
       "'United States of America'"
      ]
     },
     "execution_count": 38,
     "metadata": {},
     "output_type": "execute_result"
    }
   ],
   "source": [
    "edgar_utils.lookup_region(\"1.1.1.c\")"
   ]
  },
  {
   "cell_type": "code",
   "execution_count": 39,
   "id": "0641737c-583e-4190-9375-49d96d7535e8",
   "metadata": {},
   "outputs": [],
   "source": [
    "html = \"\"\"<!DOCTYPE HTML PUBLIC \"-//W3C//DTD HTML 4.01 Transitional//EN\" \"http://www.w3.org/TR/html4/loose.dtd\">\n",
    "<html xmlns=\"http://www.w3.org/1999/xhtml\">\n",
    "<head>\n",
    "<meta http-equiv=\"Content-Type\" content=\"text/html; charset=utf-8\" />\n",
    "<meta http-equiv=\"Last-Modified\" content=\"Fri, 12 Feb 2016 00:05:37 GMT\" />\n",
    "<title>EDGAR Filing Documents for 0001050470-16-000051</title>\n",
    "<link rel=\"stylesheet\" type=\"text/css\" href=\"/include/interactive.css\" />\n",
    "</head>\n",
    "<body style=\"margin: 0\">\n",
    "<!-- SEC Web Analytics - For information please visit: https://www.sec.gov/privacy.htm#collectedinfo -->\n",
    "<noscript><iframe src=\"//www.googletagmanager.com/ns.html?id=GTM-TD3BKV\"\n",
    "height=\"0\" width=\"0\" style=\"display:none;visibility:hidden\"></iframe></noscript>\n",
    "<script>(function(w,d,s,l,i){w[l]=w[l]||[];w[l].push({'gtm.start':\n",
    "new Date().getTime(),event:'gtm.js'});var f=d.getElementsByTagName(s)[0],\n",
    "j=d.createElement(s),dl=l!='dataLayer'?'&l='+l:'';j.async=true;j.src=\n",
    "'//www.googletagmanager.com/gtm.js?id='+i+dl;f.parentNode.insertBefore(j,f);\n",
    "})(window,document,'script','dataLayer','GTM-TD3BKV');</script>\n",
    "<!-- End SEC Web Analytics -->\n",
    "<noscript><div style=\"color:red; font-weight:bold; text-align:center;\">This page uses Javascript. Your browser either doesn't support Javascript or you have it turned off. To see this page as it is meant to appear please use a Javascript enabled browser.</div></noscript>\n",
    "<!-- BEGIN BANNER -->\n",
    "<div id=\"headerTop\">\n",
    "   <div id=\"Nav\"><a href=\"/index.htm\">Home</a> | <a href=\"/cgi-bin/browse-edgar?action=getcurrent\">Latest Filings</a> | <a href=\"javascript:history.back()\">Previous Page</a></div>\n",
    "   <div id=\"seal\"><a href=\"/index.htm\"><img src=\"/images/sealTop.gif\" alt=\"SEC Seal\" border=\"0\" /></a></div>\n",
    "   <div id=\"secWordGraphic\"><img src=\"/images/bannerTitle.gif\" alt=\"SEC Banner\" /></div>\n",
    "</div>\n",
    "<div id=\"headerBottom\">\n",
    "   <div id=\"searchHome\"><a href=\"/edgar/searchedgar/webusers.htm\">Search the Next-Generation EDGAR System</a></div>\n",
    "   <div id=\"PageTitle\">Filing Detail</div>\n",
    "</div>\n",
    "<!-- END BANNER -->\n",
    "\n",
    "\n",
    "<!-- BEGIN BREADCRUMBS -->\n",
    "<div id=\"breadCrumbs\">\n",
    "   <ul>\n",
    "      <li><a href=\"/index.htm\">SEC Home</a> &#187;</li>\n",
    "      <li><a href=\"/edgar/searchedgar/webusers.htm\">Search the Next-Generation EDGAR System</a> &#187;</li>\n",
    "      <li><a href=\"/edgar/searchedgar/companysearch.html\">Company Search</a> &#187;</li>\n",
    "      <li class=\"last\">Current Page</li>\n",
    "   </ul>\n",
    "</div>\n",
    "<!-- END BREADCRUMBS -->\n",
    "\n",
    "<div id=\"contentDiv\">\n",
    "<!-- START FILING DIV -->\n",
    "<div id=\"formDiv\">\n",
    "   <div id=\"formHeader\">\n",
    "      <div id=\"formName\">\n",
    "         <strong>Form SC 13G</strong> - Statement of acquisition of beneficial ownership by individuals: \n",
    "      </div>\n",
    "      <div id=\"secNum\">\n",
    "         <strong><acronym title=\"Securities and Exchange Commission\">SEC</acronym> Accession <acronym title=\"Number\">No.</acronym></strong> 0001050470-16-000051\n",
    "      </div>\n",
    "   </div>\n",
    "   <div class=\"formContent\">\n",
    "      <div class=\"formGrouping\">\n",
    "         <div class=\"infoHead\">Filing Date</div>\n",
    "         <div class=\"info\">2016-02-12</div>\n",
    "         <div class=\"infoHead\">Accepted</div>\n",
    "         <div class=\"info\">2016-02-11 19:05:37</div>\n",
    "         <div class=\"infoHead\">Documents</div>\n",
    "         <div class=\"info\">1</div>\n",
    "      </div>\n",
    "      <div style=\"clear:both\"></div>\n",
    "   </div>\n",
    "</div>\n",
    "<!-- END FILING DIV -->\n",
    "<!-- START DOCUMENT DIV -->\n",
    "<div id=\"formDiv\">\n",
    "   <div style=\"padding: 0px 0px 4px 0px; font-size: 12px; margin: 0px 2px 0px 5px; width: 100%; overflow:hidden\">\n",
    "      <p>Document Format Files</p>\n",
    "      <table class=\"tableFile\" summary=\"Document Format Files\">\n",
    "         <tr>\n",
    "            <th scope=\"col\" style=\"width: 5%;\"><acronym title=\"Sequence Number\">Seq</acronym></th>\n",
    "            <th scope=\"col\" style=\"width: 40%;\">Description</th>\n",
    "            <th scope=\"col\" style=\"width: 20%;\">Document</th>\n",
    "            <th scope=\"col\" style=\"width: 10%;\">Type</th>\n",
    "            <th scope=\"col\">Size</th>\n",
    "         </tr>\n",
    "         <tr>\n",
    "            <td scope=\"row\">1</td>\n",
    "            <td scope=\"row\">LSV13G123115MEDALLION.TXT</td>\n",
    "            <td scope=\"row\"><a href=\"/Archives/edgar/data/1000209/000105047016000051/lsv13g123115medallion.txt\">lsv13g123115medallion.txt</a></td>\n",
    "            <td scope=\"row\">SC 13G</td>\n",
    "            <td scope=\"row\">8314</td>\n",
    "         </tr>\n",
    "         <tr class=\"blueRow\">\n",
    "            <td scope=\"row\">&nbsp;</td>\n",
    "            <td scope=\"row\">Complete submission text file</td>\n",
    "            <td scope=\"row\"><a href=\"/Archives/edgar/data/1000209/000105047016000051/0001050470-16-000051.txt\">0001050470-16-000051.txt</a></td>\n",
    "            <td scope=\"row\">&nbsp;</td>\n",
    "            <td scope=\"row\">9803</td>\n",
    "         </tr>\n",
    "      </table>\t\n",
    "   </div>\n",
    "</div>\n",
    "<!-- END DOCUMENT DIV -->\n",
    "<!-- START FILER DIV -->\n",
    "<div id=\"filerDiv\">\n",
    "   <div class=\"mailer\">Mailing Address\n",
    "      <span class=\"mailerAddress\">437 MADISON AVENUE</span>\n",
    "      <span class=\"mailerAddress\">38TH FLOOR</span>\n",
    "      <span class=\"mailerAddress\">\n",
    "NEW YORK NY 10022      </span>\n",
    "   </div>\n",
    "   <div class=\"mailer\">Business Address\n",
    "      <span class=\"mailerAddress\">437 MADISON AVE 38 TH FLOOR</span>\n",
    "      <span class=\"mailerAddress\">\n",
    "NEW YORK NY 10022      </span>\n",
    "      <span class=\"mailerAddress\">2123282153</span>\n",
    "   </div>\n",
    "<div class=\"companyInfo\">\n",
    "  <span class=\"companyName\">MEDALLION FINANCIAL CORP (Subject)\n",
    " <acronym title=\"Central Index Key\">CIK</acronym>: <a href=\"/cgi-bin/browse-edgar?CIK=0001000209&amp;action=getcompany\">0001000209 (see all company filings)</a></span>\n",
    "<p class=\"identInfo\"><acronym title=\"Internal Revenue Service Number\">IRS No.</acronym>: <strong>043291176</strong> | State of Incorp.: <strong>DE</strong> | Fiscal Year End: <strong>1231</strong><br />Type: <strong>SC 13G</strong> | Act: <strong>34</strong> | File No.: <a href=\"/cgi-bin/browse-edgar?filenum=005-48473&amp;action=getcompany\"><strong>005-48473</strong></a> | Film No.: <strong>161413579</strong><br /><acronym title=\"Standard Industrial Code\">SIC</acronym>: <b><a href=\"/cgi-bin/browse-edgar?action=getcompany&amp;SIC=6199&amp;owner=include\">6199</a></b> Finance Services<br />Office of Finance</p>\n",
    "</div>\n",
    "<div class=\"clear\"></div>\n",
    "</div>\n",
    "<div id=\"filerDiv\">\n",
    "   <div class=\"mailer\">Mailing Address\n",
    "      <span class=\"mailerAddress\">155 NORTH WACKER DRIVE</span>\n",
    "      <span class=\"mailerAddress\">SUITE 4600</span>\n",
    "      <span class=\"mailerAddress\">\n",
    "CHICAGO IL 60606      </span>\n",
    "   </div>\n",
    "   <div class=\"mailer\">Business Address\n",
    "      <span class=\"mailerAddress\">155 NORTH WACKER DRIVE</span>\n",
    "      <span class=\"mailerAddress\">SUITE 4600</span>\n",
    "      <span class=\"mailerAddress\">\n",
    "CHICAGO IL 60606      </span>\n",
    "      <span class=\"mailerAddress\">312-460-2443</span>\n",
    "   </div>\n",
    "<div class=\"companyInfo\">\n",
    "  <span class=\"companyName\">LSV ASSET MANAGEMENT (Filed by)\n",
    " <acronym title=\"Central Index Key\">CIK</acronym>: <a href=\"/cgi-bin/browse-edgar?CIK=0001050470&amp;action=getcompany\">0001050470 (see all company filings)</a></span>\n",
    "<p class=\"identInfo\"><acronym title=\"Internal Revenue Service Number\">IRS No.</acronym>: <strong>232772200</strong> | State of Incorp.: <strong>DE</strong> | Fiscal Year End: <strong>1231</strong><br />Type: <strong>SC 13G</strong></p>\n",
    "</div>\n",
    "<div class=\"clear\"></div>\n",
    "</div>\n",
    "<!-- END FILER DIV -->\n",
    "</div>\"\"\""
   ]
  },
  {
   "cell_type": "code",
   "execution_count": 40,
   "id": "9e3fef05-d3f7-4f24-9740-f3824cac15b0",
   "metadata": {},
   "outputs": [
    {
     "data": {
      "text/plain": [
       "['2016-02-12', '2016-02-11']"
      ]
     },
     "execution_count": 40,
     "metadata": {},
     "output_type": "execute_result"
    }
   ],
   "source": [
    "x = re.findall(r\"[19|20]+[0-9]{2}-[0-9]{2}-[0-9]{2}\", html)\n",
    "x = [n for n in x if int(n[5:7]) <= 12]\n",
    "x"
   ]
  },
  {
   "cell_type": "code",
   "execution_count": 41,
   "id": "b0873f7a-6543-424d-8549-91e6ac166bbf",
   "metadata": {},
   "outputs": [
    {
     "data": {
      "text/plain": [
       "['6199']"
      ]
     },
     "execution_count": 41,
     "metadata": {},
     "output_type": "execute_result"
    }
   ],
   "source": [
    "re.findall(r\"SIC=([0-9]{3,4})\", html)"
   ]
  },
  {
   "cell_type": "code",
   "execution_count": 42,
   "id": "c5d1e130-7924-45a7-b572-96f2adbdf719",
   "metadata": {},
   "outputs": [
    {
     "name": "stdout",
     "output_type": "stream",
     "text": [
      "['437 MADISON AVENUE', '38TH FLOOR', '\\nNEW YORK NY 10022']\n",
      "['437 MADISON AVE 38 TH FLOOR', '\\nNEW YORK NY 10022', '2123282153']\n",
      "['155 NORTH WACKER DRIVE', 'SUITE 4600', '\\nCHICAGO IL 60606']\n",
      "['155 NORTH WACKER DRIVE', 'SUITE 4600', '\\nCHICAGO IL 60606', '312-460-2443']\n"
     ]
    }
   ],
   "source": [
    "for addr_html in re.findall(r'<div class=\"mailer\">([\\s\\S]+?)</div>', html):\n",
    "    lines = []\n",
    "    for line in re.findall(r'<span class=\"mailerAddress\">([\\s\\S]+?)</span>', addr_html):\n",
    "        lines.append(line.strip(\" \\t\"))\n",
    "    print(lines)\n"
   ]
  },
  {
   "cell_type": "code",
   "execution_count": 43,
   "id": "cdad691d-ffba-4779-b4ce-eecf5afc2639",
   "metadata": {},
   "outputs": [
    {
     "data": {
      "text/plain": [
       "['437 MADISON AVENUE/n38TH FLOOR/nNEW YORK NY 10022',\n",
       " '437 MADISON AVE 38 TH FLOOR/nNEW YORK NY 10022/n2123282153',\n",
       " '155 NORTH WACKER DRIVE/nSUITE 4600/nCHICAGO IL 60606',\n",
       " '155 NORTH WACKER DRIVE/nSUITE 4600/nCHICAGO IL 60606/n312-460-2443']"
      ]
     },
     "execution_count": 43,
     "metadata": {},
     "output_type": "execute_result"
    }
   ],
   "source": [
    "addys = []\n",
    "for addr_html in re.findall(r'<div class=\"mailer\">([\\s\\S]+?)</div>', html):\n",
    "    string = \"\"\n",
    "    for line in re.findall(r'<span class=\"mailerAddress\">([\\s\\S]+?)</span>', addr_html):\n",
    "        string = string + line.strip() + \"/n\"\n",
    "    string = string[:-2]\n",
    "    addys.append(string)\n",
    "addys"
   ]
  },
  {
   "cell_type": "code",
   "execution_count": 44,
   "id": "9349a220-05ce-4637-b82d-bb24bfbebbd4",
   "metadata": {},
   "outputs": [
    {
     "name": "stdout",
     "output_type": "stream",
     "text": [
      "['NY']\n",
      "['NY']\n",
      "['IL']\n",
      "['IL']\n"
     ]
    }
   ],
   "source": [
    "for n in addys:\n",
    "    print(re.findall(r\"([A-Z]{2}) [0-9]{5}\", n))"
   ]
  },
  {
   "cell_type": "code",
   "execution_count": 45,
   "id": "7a466324-c00e-43ff-a1a8-93711b184b68",
   "metadata": {},
   "outputs": [],
   "source": [
    "import edgar_utils"
   ]
  },
  {
   "cell_type": "code",
   "execution_count": 46,
   "id": "d1719328-1757-466d-ab4c-110933043bbe",
   "metadata": {},
   "outputs": [],
   "source": [
    "import pandas as pd"
   ]
  },
  {
   "cell_type": "code",
   "execution_count": 47,
   "id": "68542465-9891-4a77-a8a5-72e6fbe20154",
   "metadata": {},
   "outputs": [],
   "source": [
    "df = pd.read_csv(\"server_log.zip\", compression = \"zip\")"
   ]
  },
  {
   "cell_type": "code",
   "execution_count": 48,
   "id": "0954ae1d-a6b2-40e8-834f-5aba3fc7ae07",
   "metadata": {},
   "outputs": [
    {
     "data": {
      "text/plain": [
       "{'54.152.17.ccg': 12562,\n",
       " '183.195.251.hah': 6524,\n",
       " '52.45.218.ihf': 5562,\n",
       " '68.180.231.abf': 5493,\n",
       " '204.212.175.bch': 4708,\n",
       " '103.238.106.gif': 4428,\n",
       " '208.77.215.jeh': 3903,\n",
       " '208.77.214.jeh': 3806,\n",
       " '217.174.255.dgd': 3551,\n",
       " '82.13.163.caf': 3527}"
      ]
     },
     "execution_count": 48,
     "metadata": {},
     "output_type": "execute_result"
    }
   ],
   "source": [
    "df[\"ip\"].value_counts().head(10).to_dict()"
   ]
  },
  {
   "cell_type": "code",
   "execution_count": 49,
   "id": "0594d451-4e21-4a21-b82b-364a1a132141",
   "metadata": {},
   "outputs": [],
   "source": [
    "x = \"\"\"\n",
    "\n",
    "<html>\n",
    "  <body>\n",
    "    <h1>EDGAR Web Logs</h1>\n",
    "\n",
    "    <p>Enjoy the data.</p>\n",
    "      \n",
    "    <a href=\"/browse.html\">Browse<br></a>\n",
    "      \n",
    "    <a href=\"/analysis.html\">Analysis<br></a>\n",
    "      \n",
    "    <a href=\"/donate.html?from=A\">Donate</a>\n",
    "      \n",
    "    <h1>Analysis of EDGAR Web Logs</h1>\n",
    "    <p>Q1: how many filings have been accessed by the top ten IPs?</p>\n",
    "    <p>???</p>\n",
    "    <p>Q2: what is the distribution of SIC codes for the filings in docs.zip?</p>\n",
    "    <p>???</p>\n",
    "    <p>Q3: what are the most commonly seen street addresses?</p>\n",
    "    <p>???</p>\n",
    "    <h4>Dashboard: geographic plotting of postal code</h4>\n",
    "  </body>\n",
    "</html>\n",
    "\n",
    "\n",
    "\n",
    "\"\"\""
   ]
  },
  {
   "cell_type": "code",
   "execution_count": 50,
   "id": "13b79da4-0c4c-4920-8fda-9835c85a85cc",
   "metadata": {},
   "outputs": [
    {
     "name": "stdout",
     "output_type": "stream",
     "text": [
      "<p>Q1: how many filings have been accessed by the top ten IPs?</p>\n",
      "    <p>???</p>\n",
      "    \n"
     ]
    }
   ],
   "source": [
    "print(x[279:365])"
   ]
  },
  {
   "cell_type": "code",
   "execution_count": 51,
   "id": "2cf0c42d-330c-45a0-9d96-c764e1427762",
   "metadata": {
    "tags": []
   },
   "outputs": [],
   "source": [
    "allFiling = []\n",
    "Paths = []\n",
    "with ZipFile(\"docs.zip\") as zFile:\n",
    "    k = []\n",
    "    i = 0\n",
    "    for n in zFile.namelist():\n",
    "        if \"htm\" in n:\n",
    "        #    print(n)\n",
    "            k.append(n)\n",
    "    for n in k:\n",
    "        with zFile.open(n, \"r\") as htmlFile:\n",
    "            html = htmlFile.read()\n",
    "            Filing = edgar_utils.Filing(str(html))\n",
    "            allFiling.append(Filing)\n",
    "            Paths.append(n)\n",
    "            # print(n, Filing.sic)\n",
    "sicCounterDict = {}\n",
    "for n in allFiling:\n",
    "    if n.sic == None:\n",
    "        continue\n",
    "    for sic in n.sic:\n",
    "        if sic not in sicCounterDict:\n",
    "            sicCounterDict[sic] = 0\n",
    "        sicCounterDict[sic] += 1\n",
    "sicCounterDict = dict(sorted(sicCounterDict.items(), key=lambda item: item[1], reverse=True))\n",
    "sicCounterDict = pd.DataFrame(sicCounterDict.values(), sicCounterDict.keys()).head(10).to_dict()[0]\n"
   ]
  },
  {
   "cell_type": "code",
   "execution_count": null,
   "id": "09c1ebae-6fab-4745-aae1-fa035a5b99ee",
   "metadata": {},
   "outputs": [],
   "source": []
  },
  {
   "cell_type": "code",
   "execution_count": 52,
   "id": "b7307352-db4c-43f0-a319-103ab2ba53c8",
   "metadata": {
    "tags": []
   },
   "outputs": [
    {
     "name": "stderr",
     "output_type": "stream",
     "text": [
      "/tmp/ipykernel_57263/996298013.py:2: SettingWithCopyWarning: \n",
      "A value is trying to be set on a copy of a slice from a DataFrame.\n",
      "Try using .loc[row_indexer,col_indexer] = value instead\n",
      "\n",
      "See the caveats in the documentation: https://pandas.pydata.org/pandas-docs/stable/user_guide/indexing.html#returning-a-view-versus-a-copy\n",
      "  df2['doc'] = df.apply(lambda row: f\"{int(row['cik'])}/{row['accession']}/{row['extention']}\", axis=1)\n"
     ]
    }
   ],
   "source": [
    "df2 = df[[\"cik\",\"accession\",\"extention\"]]\n",
    "df2['doc'] = df.apply(lambda row: f\"{int(row['cik'])}/{row['accession']}/{row['extention']}\", axis=1)\n",
    "allsearchable = list(df2[\"doc\"].values)"
   ]
  },
  {
   "cell_type": "code",
   "execution_count": 53,
   "id": "7dd2d0c8-811d-4c4e-bd6a-66d5f712baee",
   "metadata": {},
   "outputs": [],
   "source": [
    "finalList = [n for n in allsearchable if \"htm\" in n]"
   ]
  },
  {
   "cell_type": "code",
   "execution_count": 54,
   "id": "d482070f-2545-4493-a292-42ffe9c2e3c9",
   "metadata": {
    "tags": []
   },
   "outputs": [
    {
     "data": {
      "text/plain": [
       "(630, 54788, 630)"
      ]
     },
     "execution_count": 54,
     "metadata": {},
     "output_type": "execute_result"
    }
   ],
   "source": [
    "comp1 = set(finalList)\n",
    "comp2 = set(Paths)\n",
    "sharedPaths = list(comp1.intersection(comp2))\n",
    "len(sharedPaths), len(comp1), len(comp2)"
   ]
  },
  {
   "cell_type": "code",
   "execution_count": 56,
   "id": "8a51ccab-54ef-451c-9830-32b5c6ff1ed8",
   "metadata": {},
   "outputs": [
    {
     "data": {
      "text/plain": [
       "{'': 272,\n",
       " '2000 AVENUE OF THE STARS, 12TH FLOOR\\n\\\\nLOS ANGELES CA 9006': 134,\n",
       " '2000 AVENUE OF THE STARS, 12TH FLOOR\\n\\\\nLOS ANGELES CA 90067\\n310201410': 113,\n",
       " '3 LANDMARK SQUARE\\nSUITE 500\\n\\\\nSTAMFORD CT 06901\\n203356440': 60,\n",
       " 'C/O KKR ASSET MANAGEMENT LLC\\n555 CALIFORNIA STREET, 50TH FLOOR\\n\\\\nSAN FRANCISCO CA 9410': 36,\n",
       " 'C/O ARES MANAGEMENT LLC\\n2000 AVENUE OF THE STARS, 12TH FLOOR\\n\\\\nLOS ANGELES CA 9006': 35,\n",
       " '4740 AGAR DRIVE\\n\\\\nRICHMOND A1 V7B 1A': 25,\n",
       " 'CENTRALIS S.A., 8-10 AVENUE DE LA GARE\\n\\\\nLUXEMBOURG N4 L-161': 25,\n",
       " 'CENTRALIS S.A., 8-10 AVENUE DE LA GARE\\n\\\\nLUXEMBOURG N4 L-1610\\n352-26-186-': 25,\n",
       " '3 LANDMARK SQUARE\\nSUITE 500\\n\\\\nSTAMFORD CT 0690': 24,\n",
       " '801 CHERRY STREET\\nSUITE 2100\\n\\\\nFORT WORTH TX 7610': 22,\n",
       " 'C/O KKR ASSET MANAGEMENT LLC\\n555 CALIFORNIA STREET, 50TH FLOOR\\n\\\\nSAN FRANCISCO CA 94104\\n(415) 315-362': 22,\n",
       " '2000 AVENUE OF THE STARS, 12TH FLOOR\\n\\\\nLOS ANGELES CA 90067\\n310-201-410': 21,\n",
       " '3 LANDMARK SQU.\\nSUITE 500\\n\\\\nSTAMFORD CT 06901\\n203356440': 20,\n",
       " '2905 PREMIER PARKWAY, NW\\nSUITE 300\\n\\\\nDULUTH GA 3009': 20,\n",
       " '2905 PREMIER PARKWAY, NW\\nSUITE 300\\n\\\\nDULUTH GA 30097\\n770418820': 20,\n",
       " 'CHC HOUSE, HOWE MOSS DRIVE\\nKIRKHILL INDUSTRIAL ESTATE, DYCE\\n\\\\nABERDEEN, SCOTLAND X0 AB21 0G': 20,\n",
       " 'CHC HOUSE, HOWE MOSS DRIVE\\nKIRKHILL INDUSTRIAL ESTATE, DYCE\\n\\\\nABERDEEN, SCOTLAND X0 AB21 0GL\\n44-1224-846-00': 20,\n",
       " '4740 AGAR DRIVE\\n\\\\nRICHMOND A1 V7B 1A3\\n604-276-750': 20,\n",
       " 'C/O ASBURY AUTOMOTIVE GROUP, INC.\\n622 THIRD AVENUE\\n\\\\nNEW YORK NY 1001': 18,\n",
       " '1114 AVENUE OF THE AMERICAS\\n29TH FLOOR\\n\\\\nNEW YORK NY 1003': 16,\n",
       " '2000 AVENUE OF THE STARS\\n12TH FLOOR\\n\\\\nLOS ANGELES CA 9006': 16,\n",
       " 'C/O ARES MANAGEMENT LLC\\n2000 AVENUE OF THE STARS, 12TH FLOOR\\n\\\\nLOS ANGELES CA 90067\\n(310) 201-410': 16,\n",
       " '801 CHERRY STREET\\nSUITE 2100\\n\\\\nFORT WORTH TX 76102\\n817-334-410': 15,\n",
       " '3 LANDMARK SQU.\\nSUITE 500\\n\\\\nSTAMFORD CT 0690': 15,\n",
       " 'LEVEL 4\\n1060 HAY STREET\\n\\\\nWEST PERTH, WA C3 600': 15,\n",
       " 'LEVEL 4\\n1060 HAY STREET\\n\\\\nWEST PERTH, WA C3 6005\\n61-8-6217-740': 15,\n",
       " '13-15 AVENUE DE LA LIBERTE\\n\\\\nLUXEMBOURG N4 L-193': 15,\n",
       " '13-15 AVENUE DE LA LIBERTE\\n\\\\nLUXEMBOURG N4 L-1931\\n352-2689-0': 15,\n",
       " '9 PARELLAAN\\n2132 WS HOOFDDORP\\n\\\\nHOLLAND P7 213': 15}"
      ]
     },
     "execution_count": 56,
     "metadata": {},
     "output_type": "execute_result"
    }
   ],
   "source": [
    "AddressFilings = []\n",
    "with ZipFile(\"docs.zip\") as zFile:\n",
    "    for n in sharedPaths:\n",
    "        with zFile.open(n, \"r\") as htmlFile:\n",
    "            html = htmlFile.read()\n",
    "            Filing = edgar_utils.Filing(str(html))\n",
    "            AddressFilings.append(Filing)\n",
    "            \n",
    "AddressCountsDict = {}\n",
    "for n in AddressFilings:\n",
    "    if n.addresses == None or n.addresses == '':\n",
    "        continue\n",
    "    else:\n",
    "        for address in n.addresses:\n",
    "            if address not in AddressCountsDict:\n",
    "                AddressCountsDict[address] = 0\n",
    "            AddressCountsDict[address] += 1\n",
    "\n",
    "        \n",
    "AddressCountsDict = dict(sorted(AddressCountsDict.items(), key=lambda item: item[1], reverse=True))\n",
    "AddressCountsDict = pd.DataFrame(AddressCountsDict.values(), AddressCountsDict.keys()).head(30).to_dict()[0]\n",
    "AddressCountsDict"
   ]
  },
  {
   "cell_type": "code",
   "execution_count": null,
   "id": "bc85cef2-a81a-407a-b4d7-edb2ce841a2e",
   "metadata": {},
   "outputs": [],
   "source": []
  }
 ],
 "metadata": {
  "kernelspec": {
   "display_name": "Python 3 (ipykernel)",
   "language": "python",
   "name": "python3"
  },
  "language_info": {
   "codemirror_mode": {
    "name": "ipython",
    "version": 3
   },
   "file_extension": ".py",
   "mimetype": "text/x-python",
   "name": "python",
   "nbconvert_exporter": "python",
   "pygments_lexer": "ipython3",
   "version": "3.10.12"
  }
 },
 "nbformat": 4,
 "nbformat_minor": 5
}
