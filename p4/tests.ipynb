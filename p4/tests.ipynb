{
 "cells": [
  {
   "cell_type": "code",
   "execution_count": 1,
   "id": "2bbe98c2-f379-483c-94f1-d45f011fc73e",
   "metadata": {},
   "outputs": [],
   "source": [
    "import geopandas as gpd\n",
    "from shapely.geometry import box\n",
    "import matplotlib.pyplot as plt\n",
    "import matplotlib\n",
    "import pandas as pd\n",
    "from flask import Flask, request, jsonify, render_template\n",
    "from zipfile import ZipFile, ZIP_DEFLATED\n",
    "from io import TextIOWrapper\n",
    "import csv, re\n",
    "matplotlib.use('Agg')"
   ]
  },
  {
   "cell_type": "code",
   "execution_count": 6,
   "id": "ae6c2292-ea00-4df4-8463-3edc5bc73761",
   "metadata": {},
   "outputs": [],
   "source": [
    "geodata = gpd.read_file(\"locations.geojson\")\n",
    "us_states = gpd.read_file(\"shapes/cb_2018_us_state_20m.shp\")\n",
    "\n",
    "fig, ax = plt.subplots()\n",
    "\n",
    "codes = []\n",
    "for n in pd.Series(geodata[\"address\"]).values:\n",
    "    zipCodes = re.findall(r\"[A-Z]{2}\\s(\\d{5})\", n)\n",
    "    try:\n",
    "        if len(zipCodes[0]) != 0:\n",
    "            codes.append(zipCodes[0])\n",
    "    except:\n",
    "            codes.append(None)\n",
    "geodata['postal_code'] = codes\n",
    "geodata = geodata[~geodata['postal_code'].isnull()]\n",
    "\n",
    "if 'postal_code' in geodata.columns:\n",
    "    geodata['postal_code'] = geodata['postal_code'].astype(int)\n",
    "\n",
    "geodata = geodata[geodata[\"postal_code\"] > 25000]\n",
    "geodata = geodata[geodata[\"postal_code\"] < 65000]\n",
    "\n",
    "boundingBox = box(-95, 25, -60, 50)\n",
    "\n",
    "geodata = geodata[geodata.intersects(boundingBox)]\n",
    "us_states = us_states[us_states.intersects(boundingBox)].to_crs(\"EPSG:2022\")\n",
    "\n",
    "us_states.plot(ax=ax, color = \"lightgray\", figsize = (5, 5))\n",
    "final = geodata.to_crs(us_states.crs)\n",
    "final.plot(ax=ax, column = \"postal_code\", legend = True, cmap = \"RdBu\")\n",
    "\n",
    "ax.set_axis_off()\n",
    "\n",
    "\n",
    "plt.savefig('dashboard.svg', format='svg')\n",
    "plt.close(fig)\n",
    "return flask.Response(fig, header = {\"Content-Type\": \"image/svg+xml\"})\n"
   ]
  },
  {
   "cell_type": "code",
   "execution_count": null,
   "id": "73fb831f-9eeb-4f16-8877-0df3aed9d10d",
   "metadata": {},
   "outputs": [],
   "source": []
  }
 ],
 "metadata": {
  "kernelspec": {
   "display_name": "Python 3 (ipykernel)",
   "language": "python",
   "name": "python3"
  },
  "language_info": {
   "codemirror_mode": {
    "name": "ipython",
    "version": 3
   },
   "file_extension": ".py",
   "mimetype": "text/x-python",
   "name": "python",
   "nbconvert_exporter": "python",
   "pygments_lexer": "ipython3",
   "version": "3.10.12"
  }
 },
 "nbformat": 4,
 "nbformat_minor": 5
}
